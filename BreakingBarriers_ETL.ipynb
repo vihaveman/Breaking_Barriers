{
  "nbformat": 4,
  "nbformat_minor": 0,
  "metadata": {
    "colab": {
      "provenance": [],
      "authorship_tag": "ABX9TyOZ9V887kRZjsUPL3eNjIoH",
      "include_colab_link": true
    },
    "kernelspec": {
      "name": "python3",
      "display_name": "Python 3"
    },
    "language_info": {
      "name": "python"
    }
  },
  "cells": [
    {
      "cell_type": "markdown",
      "metadata": {
        "id": "view-in-github",
        "colab_type": "text"
      },
      "source": [
        "<a href=\"https://colab.research.google.com/github/vihaveman/Breaking_Barriers/blob/Jibek/BreakingBarriers_ETL.ipynb\" target=\"_parent\"><img src=\"https://colab.research.google.com/assets/colab-badge.svg\" alt=\"Open In Colab\"/></a>"
      ]
    },
    {
      "cell_type": "code",
      "execution_count": 1,
      "metadata": {
        "colab": {
          "base_uri": "https://localhost:8080/"
        },
        "id": "3lekUhrU74bW",
        "outputId": "42b54bbc-1e68-4c24-af8b-c0256522d543"
      },
      "outputs": [
        {
          "output_type": "stream",
          "name": "stdout",
          "text": [
            "Collecting pyspark\n",
            "  Downloading pyspark-3.4.1.tar.gz (310.8 MB)\n",
            "\u001b[2K     \u001b[90m━━━━━━━━━━━━━━━━━━━━━━━━━━━━━━━━━━━━━━━\u001b[0m \u001b[32m310.8/310.8 MB\u001b[0m \u001b[31m4.5 MB/s\u001b[0m eta \u001b[36m0:00:00\u001b[0m\n",
            "\u001b[?25h  Preparing metadata (setup.py) ... \u001b[?25l\u001b[?25hdone\n",
            "Requirement already satisfied: py4j==0.10.9.7 in /usr/local/lib/python3.10/dist-packages (from pyspark) (0.10.9.7)\n",
            "Building wheels for collected packages: pyspark\n",
            "  Building wheel for pyspark (setup.py) ... \u001b[?25l\u001b[?25hdone\n",
            "  Created wheel for pyspark: filename=pyspark-3.4.1-py2.py3-none-any.whl size=311285398 sha256=0ea58dbd74cdc98ca431f903c80b80851c2d93b4905e799e14a64997b39f2489\n",
            "  Stored in directory: /root/.cache/pip/wheels/0d/77/a3/ff2f74cc9ab41f8f594dabf0579c2a7c6de920d584206e0834\n",
            "Successfully built pyspark\n",
            "Installing collected packages: pyspark\n",
            "Successfully installed pyspark-3.4.1\n"
          ]
        }
      ],
      "source": [
        "!pip install pyspark"
      ]
    },
    {
      "cell_type": "code",
      "source": [
        "# Import packages\n",
        "from pyspark.sql import SparkSession\n",
        "import time\n",
        "\n",
        "# Create a SparkSession\n",
        "spark = SparkSession.builder.appName(\"SparkSQL\").config(\"spark.driver.memory\", \"2g\").getOrCreate()"
      ],
      "metadata": {
        "id": "AHSvClnl77mP"
      },
      "execution_count": 3,
      "outputs": []
    },
    {
      "cell_type": "code",
      "source": [
        "import requests\n",
        "from pyspark.sql import SparkSession\n",
        "import pandas as pd\n",
        "import json\n",
        "\n",
        "# Create a SparkSession\n",
        "spark = SparkSession.builder.appName(\"ReadJSONFromURL\").getOrCreate()\n",
        "# The URL to the World Bank API endpoint\n",
        "url = \"https://finances.worldbank.org/resource/tdwh-3krx.json?$query=SELECT%0A%20%20%60end_of_period%60%2C%0A%20%20%60credit_number%60%2C%0A%20%20%60region%60%2C%0A%20%20%60country_code%60%2C%0A%20%20%60country%60%2C%0A%20%20%60borrower%60%2C%0A%20%20%60credit_status%60%2C%0A%20%20%60service_charge_rate%60%2C%0A%20%20%60currency_of_commitment%60%2C%0A%20%20%60project_id%60%2C%0A%20%20%60project_name%60%2C%0A%20%20%60original_principal_amount%60%2C%0A%20%20%60cancelled_amount%60%2C%0A%20%20%60undisbursed_amount%60%2C%0A%20%20%60disbursed_amount%60%2C%0A%20%20%60repaid_to_ida%60%2C%0A%20%20%60due_to_ida%60%2C%0A%20%20%60exchange_adjustment%60%2C%0A%20%20%60borrower_s_obligation%60%2C%0A%20%20%60sold_3rd_party%60%2C%0A%20%20%60repaid_3rd_party%60%2C%0A%20%20%60due_3rd_party%60%2C%0A%20%20%60credits_held%60%2C%0A%20%20%60first_repayment_date%60%2C%0A%20%20%60last_repayment_date%60%2C%0A%20%20%60agreement_signing_date%60%2C%0A%20%20%60board_approval_date%60%2C%0A%20%20%60effective_date_most_recent_%60%2C%0A%20%20%60closed_date_most_recent_%60%2C%0A%20%20%60last_disbursement_date%60%0AORDER%20BY%20%60credit_number%60%20ASC%20NULL%20LAST%2C%20%60end_of_period%60%20ASC%20NULL%20LAST\"\n",
        "# Fetch JSON data from the URL using requests library\n",
        "response = requests.get(url)\n",
        "data = response.json()\n",
        "# Convert the JSON data to a Pandas DataFrame\n",
        "pandas_df = pd.DataFrame(data)\n",
        "# Create a Spark DataFrame from the Pandas DataFrame\n",
        "df = spark.createDataFrame(pandas_df)\n",
        "# Show the DataFrame\n",
        "df.show()\n",
        "# Stop the SparkSession\n",
        "spark.stop()\n"
      ],
      "metadata": {
        "colab": {
          "base_uri": "https://localhost:8080/"
        },
        "id": "4EWJhRMr8DPj",
        "outputId": "70c19c2e-bbc4-4882-90a6-ce73c1285758"
      },
      "execution_count": 7,
      "outputs": [
        {
          "output_type": "stream",
          "name": "stdout",
          "text": [
            "+--------------------+-------------+--------------------+------------+--------+--------------------+-------------+-------------------+----------------------+----------+---------------+-------------------------+----------------+------------------+----------------+-------------+----------+-------------------+---------------------+--------------+----------------+-------------+------------+--------------------+--------------------+----------------------+--------------------+---------------------------+------------------------+\n",
            "|       end_of_period|credit_number|              region|country_code| country|            borrower|credit_status|service_charge_rate|currency_of_commitment|project_id|   project_name|original_principal_amount|cancelled_amount|undisbursed_amount|disbursed_amount|repaid_to_ida|due_to_ida|exchange_adjustment|borrower_s_obligation|sold_3rd_party|repaid_3rd_party|due_3rd_party|credits_held|first_repayment_date| last_repayment_date|agreement_signing_date| board_approval_date|effective_date_most_recent_|closed_date_most_recent_|\n",
            "+--------------------+-------------+--------------------+------------+--------+--------------------+-------------+-------------------+----------------------+----------+---------------+-------------------------+----------------+------------------+----------------+-------------+----------+-------------------+---------------------+--------------+----------------+-------------+------------+--------------------+--------------------+----------------------+--------------------+---------------------------+------------------------+\n",
            "|2011-04-30T00:00:...|     IDA00010|LATIN AMERICA AND...|          HN|Honduras|MINISTERIO DE HAC...| Fully Repaid|               0.75|                   USD|   P007335|WESTERN HIGHWAY|                  9000000|       572026.03|                 0|      8427973.97|   8427973.97|         0|                  0|                    0|             0|               0|            0|           0|1971-09-01T00:00:...|2011-03-01T00:00:...|  1961-05-12T00:00:...|1961-05-11T00:00:...|       1961-06-29T00:00:...|    1967-07-31T00:00:...|\n",
            "|2011-05-31T00:00:...|     IDA00010|LATIN AMERICA AND...|          HN|Honduras|MINISTERIO DE HAC...| Fully Repaid|               0.75|                   USD|   P007335|WESTERN HIGHWAY|                  9000000|       572026.03|                 0|      8427973.97|   8427973.97|         0|                  0|                    0|             0|               0|            0|           0|1971-09-01T00:00:...|2011-03-01T00:00:...|  1961-05-12T00:00:...|1961-05-11T00:00:...|       1961-06-29T00:00:...|    1967-07-31T00:00:...|\n",
            "|2011-06-30T00:00:...|     IDA00010|LATIN AMERICA AND...|          HN|Honduras|MINISTERIO DE HAC...| Fully Repaid|               0.75|                   USD|   P007335|WESTERN HIGHWAY|                  9000000|       572026.03|                 0|      8427973.97|   8427973.97|         0|                  0|                    0|             0|               0|            0|           0|1971-09-01T00:00:...|2011-03-01T00:00:...|  1961-05-12T00:00:...|1961-05-11T00:00:...|       1961-06-29T00:00:...|    1967-07-31T00:00:...|\n",
            "|2011-07-31T00:00:...|     IDA00010|LATIN AMERICA AND...|          HN|Honduras|MINISTERIO DE HAC...| Fully Repaid|               0.75|                   USD|   P007335|WESTERN HIGHWAY|                  9000000|       572026.03|                 0|      8427973.97|   8427973.97|         0|                  0|                    0|             0|               0|            0|           0|1971-09-01T00:00:...|2011-03-01T00:00:...|  1961-05-12T00:00:...|1961-05-11T00:00:...|       1961-06-29T00:00:...|    1967-07-31T00:00:...|\n",
            "|2011-08-31T00:00:...|     IDA00010|LATIN AMERICA AND...|          HN|Honduras|MINISTERIO DE HAC...| Fully Repaid|               0.75|                   USD|   P007335|WESTERN HIGHWAY|                  9000000|       572026.03|                 0|      8427973.97|   8427973.97|         0|                  0|                    0|             0|               0|            0|           0|1971-09-01T00:00:...|2011-03-01T00:00:...|  1961-05-12T00:00:...|1961-05-11T00:00:...|       1961-06-29T00:00:...|    1967-07-31T00:00:...|\n",
            "|2011-09-30T00:00:...|     IDA00010|LATIN AMERICA AND...|          HN|Honduras|MINISTERIO DE HAC...| Fully Repaid|               0.75|                   USD|   P007335|WESTERN HIGHWAY|                  9000000|       572026.03|                 0|      8427973.97|   8427973.97|         0|                  0|                    0|             0|               0|            0|           0|1971-09-01T00:00:...|2011-03-01T00:00:...|  1961-05-12T00:00:...|1961-05-11T00:00:...|       1961-06-29T00:00:...|    1967-07-31T00:00:...|\n",
            "|2011-10-31T00:00:...|     IDA00010|LATIN AMERICA AND...|          HN|Honduras|MINISTERIO DE HAC...| Fully Repaid|               0.75|                   USD|   P007335|WESTERN HIGHWAY|                  9000000|       572026.03|                 0|      8427973.97|   8427973.97|         0|                  0|                    0|             0|               0|            0|           0|1971-09-01T00:00:...|2011-03-01T00:00:...|  1961-05-12T00:00:...|1961-05-11T00:00:...|       1961-06-29T00:00:...|    1967-07-31T00:00:...|\n",
            "|2011-11-30T00:00:...|     IDA00010|LATIN AMERICA AND...|          HN|Honduras|MINISTERIO DE HAC...| Fully Repaid|               0.75|                   USD|   P007335|WESTERN HIGHWAY|                  9000000|       572026.03|                 0|      8427973.97|   8427973.97|         0|                  0|                    0|             0|               0|            0|           0|1971-09-01T00:00:...|2011-03-01T00:00:...|  1961-05-12T00:00:...|1961-05-11T00:00:...|       1961-06-29T00:00:...|    1967-07-31T00:00:...|\n",
            "|2011-12-31T00:00:...|     IDA00010|LATIN AMERICA AND...|          HN|Honduras|MINISTERIO DE HAC...| Fully Repaid|               0.75|                   USD|   P007335|WESTERN HIGHWAY|                  9000000|       572026.03|                 0|      8427973.97|   8427973.97|         0|                  0|                    0|             0|               0|            0|           0|1971-09-01T00:00:...|2011-03-01T00:00:...|  1961-05-12T00:00:...|1961-05-11T00:00:...|       1961-06-29T00:00:...|    1967-07-31T00:00:...|\n",
            "|2012-01-31T00:00:...|     IDA00010|LATIN AMERICA AND...|          HN|Honduras|MINISTERIO DE HAC...| Fully Repaid|               0.75|                   USD|   P007335|WESTERN HIGHWAY|                  9000000|       572026.03|                 0|      8427973.97|   8427973.97|         0|                  0|                    0|             0|               0|            0|           0|1971-09-01T00:00:...|2011-03-01T00:00:...|  1961-05-12T00:00:...|1961-05-11T00:00:...|       1961-06-29T00:00:...|    1967-07-31T00:00:...|\n",
            "|2012-02-29T00:00:...|     IDA00010|LATIN AMERICA AND...|          HN|Honduras|MINISTERIO DE HAC...| Fully Repaid|               0.75|                   USD|   P007335|WESTERN HIGHWAY|                  9000000|       572026.03|                 0|      8427973.97|   8427973.97|         0|                  0|                    0|             0|               0|            0|           0|1971-09-01T00:00:...|2011-03-01T00:00:...|  1961-05-12T00:00:...|1961-05-11T00:00:...|       1961-06-29T00:00:...|    1967-07-31T00:00:...|\n",
            "|2012-03-31T00:00:...|     IDA00010|LATIN AMERICA AND...|          HN|Honduras|MINISTERIO DE HAC...| Fully Repaid|               0.75|                   USD|   P007335|WESTERN HIGHWAY|                  9000000|       572026.03|                 0|      8427973.97|   8427973.97|         0|                  0|                    0|             0|               0|            0|           0|1971-09-01T00:00:...|2011-03-01T00:00:...|  1961-05-12T00:00:...|1961-05-11T00:00:...|       1961-06-29T00:00:...|    1967-07-31T00:00:...|\n",
            "|2012-04-30T00:00:...|     IDA00010|LATIN AMERICA AND...|          HN|Honduras|MINISTERIO DE HAC...| Fully Repaid|               0.75|                   USD|   P007335|WESTERN HIGHWAY|                  9000000|       572026.03|                 0|      8427973.97|   8427973.97|         0|                  0|                    0|             0|               0|            0|           0|1971-09-01T00:00:...|2011-03-01T00:00:...|  1961-05-12T00:00:...|1961-05-11T00:00:...|       1961-06-29T00:00:...|    1967-07-31T00:00:...|\n",
            "|2012-05-31T00:00:...|     IDA00010|LATIN AMERICA AND...|          HN|Honduras|MINISTERIO DE HAC...| Fully Repaid|               0.75|                   USD|   P007335|WESTERN HIGHWAY|                  9000000|       572026.03|                 0|      8427973.97|   8427973.97|         0|                  0|                    0|             0|               0|            0|           0|1971-09-01T00:00:...|2011-03-01T00:00:...|  1961-05-12T00:00:...|1961-05-11T00:00:...|       1961-06-29T00:00:...|    1967-07-31T00:00:...|\n",
            "|2012-06-30T00:00:...|     IDA00010|LATIN AMERICA AND...|          HN|Honduras|MINISTERIO DE HAC...| Fully Repaid|               0.75|                   USD|   P007335|WESTERN HIGHWAY|                  9000000|       572026.03|                 0|      8427973.97|   8427973.97|         0|                  0|                    0|             0|               0|            0|           0|1971-09-01T00:00:...|2011-03-01T00:00:...|  1961-05-12T00:00:...|1961-05-11T00:00:...|       1961-06-29T00:00:...|    1967-07-31T00:00:...|\n",
            "|2012-07-31T00:00:...|     IDA00010|LATIN AMERICA AND...|          HN|Honduras|MINISTERIO DE HAC...| Fully Repaid|               0.75|                   USD|   P007335|WESTERN HIGHWAY|                  9000000|       572026.03|                 0|      8427973.97|   8427973.97|         0|                  0|                    0|             0|               0|            0|           0|1971-09-01T00:00:...|2011-03-01T00:00:...|  1961-05-12T00:00:...|1961-05-11T00:00:...|       1961-06-29T00:00:...|    1967-07-31T00:00:...|\n",
            "|2012-08-31T00:00:...|     IDA00010|LATIN AMERICA AND...|          HN|Honduras|MINISTERIO DE HAC...| Fully Repaid|               0.75|                   USD|   P007335|WESTERN HIGHWAY|                  9000000|       572026.03|                 0|      8427973.97|   8427973.97|         0|                  0|                    0|             0|               0|            0|           0|1971-09-01T00:00:...|2011-03-01T00:00:...|  1961-05-12T00:00:...|1961-05-11T00:00:...|       1961-06-29T00:00:...|    1967-07-31T00:00:...|\n",
            "|2012-09-30T00:00:...|     IDA00010|LATIN AMERICA AND...|          HN|Honduras|MINISTERIO DE HAC...| Fully Repaid|               0.75|                   USD|   P007335|WESTERN HIGHWAY|                  9000000|       572026.03|                 0|      8427973.97|   8427973.97|         0|                  0|                    0|             0|               0|            0|           0|1971-09-01T00:00:...|2011-03-01T00:00:...|  1961-05-12T00:00:...|1961-05-11T00:00:...|       1961-06-29T00:00:...|    1967-07-31T00:00:...|\n",
            "|2012-10-31T00:00:...|     IDA00010|LATIN AMERICA AND...|          HN|Honduras|MINISTERIO DE HAC...| Fully Repaid|               0.75|                   USD|   P007335|WESTERN HIGHWAY|                  9000000|       572026.03|                 0|      8427973.97|   8427973.97|         0|                  0|                    0|             0|               0|            0|           0|1971-09-01T00:00:...|2011-03-01T00:00:...|  1961-05-12T00:00:...|1961-05-11T00:00:...|       1961-06-29T00:00:...|    1967-07-31T00:00:...|\n",
            "|2012-11-30T00:00:...|     IDA00010|LATIN AMERICA AND...|          HN|Honduras|MINISTERIO DE HAC...| Fully Repaid|               0.75|                   USD|   P007335|WESTERN HIGHWAY|                  9000000|       572026.03|                 0|      8427973.97|   8427973.97|         0|                  0|                    0|             0|               0|            0|           0|1971-09-01T00:00:...|2011-03-01T00:00:...|  1961-05-12T00:00:...|1961-05-11T00:00:...|       1961-06-29T00:00:...|    1967-07-31T00:00:...|\n",
            "+--------------------+-------------+--------------------+------------+--------+--------------------+-------------+-------------------+----------------------+----------+---------------+-------------------------+----------------+------------------+----------------+-------------+----------+-------------------+---------------------+--------------+----------------+-------------+------------+--------------------+--------------------+----------------------+--------------------+---------------------------+------------------------+\n",
            "only showing top 20 rows\n",
            "\n"
          ]
        }
      ]
    },
    {
      "cell_type": "code",
      "source": [],
      "metadata": {
        "id": "inWgMVYa9JpJ"
      },
      "execution_count": null,
      "outputs": []
    }
  ]
}